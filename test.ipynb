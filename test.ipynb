{
 "cells": [
  {
   "cell_type": "code",
   "execution_count": 11,
   "metadata": {},
   "outputs": [
    {
     "name": "stdout",
     "output_type": "stream",
     "text": [
      "NWS Forecast for: Stevens Pass WA: No further details.\n",
      "--------------------------------------------------\n",
      "Last Update: : No further details.\n",
      "--------------------------------------------------\n",
      "This Afternoon: : Snow and freezing rain.  High near 30. East wind around 10 mph.  Chance of precipitation is 90%. Total daytime ice accumulation of less than a 0.1 of an inch possible.  Total daytime snow accumulation of less than a half inch possible.\n",
      "--------------------------------------------------\n",
      "Tonight: : Rain, snow, and freezing rain, becoming all rain after 2am.  Temperature rising to around 34 by 4am. East wind 6 to 10 mph becoming south after midnight.  Chance of precipitation is 100%. New ice accumulation of 0.1 to 0.2 of an inch possible.  New snow accumulation of less than a half inch possible.\n",
      "--------------------------------------------------\n",
      "Saturday: : Rain or freezing rain, becoming all rain after 7am.  High near 35. East wind 8 to 10 mph.  Chance of precipitation is 100%. Little or no ice accumulation expected.\n",
      "--------------------------------------------------\n",
      "Saturday Night: : Rain.  Low around 32. South wind around 9 mph.  Chance of precipitation is 100%. New precipitation amounts between a half and three quarters of an inch possible.\n",
      "--------------------------------------------------\n",
      "Sunday: : Rain.  High near 38. Southwest wind 7 to 9 mph becoming southeast in the afternoon.  Chance of precipitation is 90%. New precipitation amounts between a quarter and half of an inch possible.\n",
      "--------------------------------------------------\n",
      "Sunday Night: : Rain likely, mainly before 10pm.  Mostly cloudy, with a low around 35. Chance of precipitation is 60%.\n",
      "--------------------------------------------------\n",
      "Monday: : Rain, mainly after 10am.  High near 37. Chance of precipitation is 80%.\n",
      "--------------------------------------------------\n",
      "Monday Night: : Rain.  Low around 34. Chance of precipitation is 80%.\n",
      "--------------------------------------------------\n",
      "Tuesday: : Rain likely, mainly before 4pm.  Mostly cloudy, with a high near 36. Chance of precipitation is 60%.\n",
      "--------------------------------------------------\n",
      "Tuesday Night: : Rain likely, mainly after 10pm.  Mostly cloudy, with a low around 33. Chance of precipitation is 70%.\n",
      "--------------------------------------------------\n",
      "Wednesday: : Rain.  High near 34. Chance of precipitation is 90%.\n",
      "--------------------------------------------------\n",
      "Wednesday Night: : Rain, possibly mixed with snow.  Low around 30. Chance of precipitation is 90%.\n",
      "--------------------------------------------------\n",
      "Thursday: : Rain and snow.  High near 33. Chance of precipitation is 90%.\n",
      "--------------------------------------------------\n",
      "Thursday Night: : Snow likely.  Mostly cloudy, with a low around 24. Chance of precipitation is 70%.\n",
      "--------------------------------------------------\n",
      "Friday: : Snow likely.  Mostly cloudy, with a high near 31. Chance of precipitation is 70%.\n",
      "--------------------------------------------------\n"
     ]
    }
   ],
   "source": [
    "# Import necessary libraries\n",
    "import requests\n",
    "from bs4 import BeautifulSoup\n",
    "\n",
    "# Define the URL of the target website\n",
    "url = 'https://forecast.weather.gov/MapClick.php?lat=47.75&lon=-121.09&unit=0&lg=english&FcstType=text&TextType=1'\n",
    "\n",
    "# Send a GET request to the website\n",
    "response = requests.get(url)\n",
    "\n",
    "# Check if the request was successful\n",
    "if response.status_code == 200:\n",
    "    # Parse the HTML content of the page\n",
    "    soup = BeautifulSoup(response.content, 'html.parser')\n",
    "    \n",
    "    # Identify and extract the desired data\n",
    "    # For example, to get all text within <p> tags:# Find all bold tags, as they seem to precede the forecast descriptions\n",
    "forecast_entries = soup.find_all('b')\n",
    "\n",
    "# Initialize a list to hold each forecast entry\n",
    "forecasts = []\n",
    "\n",
    "for entry in forecast_entries:\n",
    "    # Use find_next_sibling to safely get the next text element\n",
    "    forecast_text = entry.find_next_sibling(string=True)\n",
    "    \n",
    "    # Check if forecast_text is not None before stripping\n",
    "    if forecast_text:\n",
    "        forecast_text = forecast_text.strip()\n",
    "        full_forecast = f\"{entry.get_text()}: {forecast_text}\"\n",
    "        forecasts.append(full_forecast)\n",
    "    else:\n",
    "        # Handle cases where there is no following text\n",
    "        forecasts.append(entry.get_text() + \": No further details.\")\n",
    "\n",
    "# Print each forecast\n",
    "for forecast in forecasts:\n",
    "    print(forecast)\n",
    "    print(\"-\" * 50)  # Separator for readability"
   ]
  }
 ],
 "metadata": {
  "kernelspec": {
   "display_name": ".venv",
   "language": "python",
   "name": "python3"
  },
  "language_info": {
   "codemirror_mode": {
    "name": "ipython",
    "version": 3
   },
   "file_extension": ".py",
   "mimetype": "text/x-python",
   "name": "python",
   "nbconvert_exporter": "python",
   "pygments_lexer": "ipython3",
   "version": "3.11.6"
  }
 },
 "nbformat": 4,
 "nbformat_minor": 2
}
